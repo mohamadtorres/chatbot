{
 "cells": [
  {
   "cell_type": "code",
   "execution_count": 1,
   "metadata": {},
   "outputs": [
    {
     "name": "stdout",
     "output_type": "stream",
     "text": [
      "API is working without any problem!\n",
      "{\n",
      "    \"id\": \"chatcmpl-29925369-acdc-4a29-9f8a-7f1bac667d78\",\n",
      "    \"object\": \"chat.completion\",\n",
      "    \"created\": 1740124592,\n",
      "    \"model\": \"deepseek-ai/DeepSeek-R1-Distill-Llama-8B\",\n",
      "    \"choices\": [\n",
      "        {\n",
      "            \"index\": 0,\n",
      "            \"message\": {\n",
      "                \"role\": \"assistant\",\n",
      "                \"reasoning_content\": null,\n",
      "                \"content\": \"Alright, the user said \\\"Hi!\\\" Seems friendly. I should respond in a welcoming manner.\\n\\nI want to make sure I'm approachable, so keeping it casual is key.\\n\\nMaybe ask them how I can assist them today to keep the conversation going.\\n\\nKeep it open-ended so they feel comfortable to share what they need.\\n</think>\\n\\nHi! How can I assist you today?\",\n",
      "                \"tool_calls\": []\n",
      "            },\n",
      "            \"logprobs\": null,\n",
      "            \"finish_reason\": \"stop\",\n",
      "            \"stop_reason\": null\n",
      "        }\n",
      "    ],\n",
      "    \"usage\": {\n",
      "        \"prompt_tokens\": 7,\n",
      "        \"total_tokens\": 84,\n",
      "        \"completion_tokens\": 77,\n",
      "        \"prompt_tokens_details\": null\n",
      "    },\n",
      "    \"prompt_logprobs\": null\n",
      "}\n"
     ]
    }
   ],
   "source": [
    "import requests\n",
    "import json\n",
    "\n",
    "url = \"https://r1-prod-swecoab-new-res.germanywestcentral.inference.ml.azure.com/v1/chat/completions\"\n",
    "api_key = \"W8zGgBDxoHsvreZCkHkhcDuRmHS1j20a\"  # Make sure this API key is valid and not exposed publicly\n",
    "headers = {\n",
    "    'Authorization': f'Bearer {api_key}',\n",
    "    \"Content-Type\": \"application/json\"\n",
    "}\n",
    "body = {\n",
    "    \"model\": \"deepseek-ai/DeepSeek-R1-Distill-Llama-8B\",\n",
    "    \"messages\": [\n",
    "        {\n",
    "            \"role\": \"user\",\n",
    "            \"content\": \"Hi!\"\n",
    "        }\n",
    "    ]\n",
    "}\n",
    "\n",
    "response = requests.post(url, headers=headers, json=body)\n",
    "if response.status_code == 200:\n",
    "    print(\"API is working without any problem!\")\n",
    "    # print(\"*\"*20)\n",
    "    # print(response.content)\n",
    "    response_str = response.content.decode(\"utf-8\") #First decode it to a normal string\n",
    "    response_json = json.loads(response_str) #loading the json\n",
    "    print(json.dumps(response_json, indent=4))\n",
    "    # print(\"*\"*20)\n",
    "    # #print(response.headers)\n",
    "    # for key,value in response.headers.items():\n",
    "    #     print(key)\n",
    "    \n",
    "else:\n",
    "    print(f\"API is not working with code: {response.status_code}\")"
   ]
  },
  {
   "cell_type": "code",
   "execution_count": 2,
   "metadata": {},
   "outputs": [
    {
     "name": "stdout",
     "output_type": "stream",
     "text": [
      "Alright, the user said \"Hi!\" Seems friendly. I should respond in a welcoming manner.\n",
      "\n",
      "I want to make sure I'm approachable, so keeping it casual is key.\n",
      "\n",
      "Maybe ask them how I can assist them today to keep the conversation going.\n",
      "\n",
      "Keep it open-ended so they feel comfortable to share what they need.\n",
      "</think>\n",
      "\n",
      "Hi! How can I assist you today?\n"
     ]
    }
   ],
   "source": [
    "assistant_message = response_json[\"choices\"][0][\"message\"][\"content\"]\n",
    "print(assistant_message)\n",
    "\n",
    "\n",
    "#Wanted to just check how many choices there are\n",
    "#even in content there is only index 0\n",
    "# if len(response_json[\"choices\"]) > 1:\n",
    "#     second_choice = response_json[\"choices\"][1][\"message\"][\"content\"]\n",
    "#     print(second_choice)\n",
    "# else:\n",
    "#     print(\"Only one choice available.\")\n"
   ]
  },
  {
   "cell_type": "markdown",
   "metadata": {},
   "source": [
    "What to do?\n",
    "The cahtbot think is inside the <think> ...</think> and the reply IS AFTER THE </think> tag\n",
    "\n",
    "- a function to add opening <think> tag to the response \n",
    "- but the part which shows the chatbots thought is not going to be shown in front end!"
   ]
  },
  {
   "cell_type": "code",
   "execution_count": 5,
   "metadata": {},
   "outputs": [
    {
     "name": "stdout",
     "output_type": "stream",
     "text": [
      "Thought:\n",
      "Alright, the user said \"Hi!\" Seems friendly. I should respond in a welcoming manner.\n",
      "\n",
      "I want to make sure I'm approachable, so keeping it casual is key.\n",
      "\n",
      "Maybe ask them how I can assist them today to keep the conversation going.\n",
      "\n",
      "Keep it open-ended so they feel comfortable to share what they need.\n",
      "\n",
      "Reply:\n",
      "Hi! How can I assist you today?\n"
     ]
    }
   ],
   "source": [
    "# the function to remove the </think> from the response.\n",
    "import re\n",
    "\n",
    "def thinkremover_chatbot_response(response):\n",
    "    \"\"\"\n",
    "    the output will be like:\n",
    "    Thought:\n",
    "    .........\n",
    "    Reply:\n",
    "    .........\n",
    "\n",
    "\n",
    "    SHOULD ASK SHAH TO SEE IF I UNDERSTOOD IT RIGHT!\n",
    "    \"\"\"\n",
    "    # make the response a string\n",
    "    response = response.strip()\n",
    "\n",
    "    # if the opening <think> is missing, add one then\n",
    "    if not response.startswith(\"<think>\"):\n",
    "        response = \"<think>\\n\" + response\n",
    "\n",
    "    # Use regex to extract the thought and reply separately\n",
    "    match = re.search(r\"<think>(.*?)</think>(.*)\", response, re.DOTALL)\n",
    "\n",
    "    if match:\n",
    "        thought = match.group(1).strip()\n",
    "        reply = match.group(2).strip()\n",
    "    else:\n",
    "        # If there's no closing </think>, assume everything is part of the thought\n",
    "        thought = response.replace(\"<think>\", \"\").strip()\n",
    "        reply = \"\"\n",
    "\n",
    "    # Format the response\n",
    "    formatted_response = f\"Thought:\\n{thought}\\n\\nReply:\\n{reply}\"\n",
    "    return formatted_response\n",
    "\n",
    "\n",
    "assistant_message = response_json[\"choices\"][0][\"message\"][\"content\"]\n",
    "print(thinkremover_chatbot_response(assistant_message))\n",
    "\n"
   ]
  },
  {
   "cell_type": "code",
   "execution_count": 6,
   "metadata": {},
   "outputs": [
    {
     "name": "stdout",
     "output_type": "stream",
     "text": [
      "Hi! How can I assist you today?\n"
     ]
    },
    {
     "ename": "",
     "evalue": "",
     "output_type": "error",
     "traceback": [
      "\u001b[1;31mThe Kernel crashed while executing code in the the current cell or a previous cell. Please review the code in the cell(s) to identify a possible cause of the failure. Click <a href='https://aka.ms/vscodeJupyterKernelCrash'>here</a> for more info. View Jupyter <a href='command:jupyter.viewOutput'>log</a> for further details."
     ]
    }
   ],
   "source": [
    "def thinkremover_chatbot_response(response): #takes the chatbots text output\n",
    "    \"\"\"\n",
    "    the output will be like:\n",
    "    Thought:\n",
    "    .........\n",
    "    Reply:\n",
    "    .........\n",
    "\n",
    "\n",
    "    SHOULD ASK SHAH TO SEE IF I UNDERSTOOD IT RIGHT!\n",
    "    \"\"\"\n",
    "    \n",
    "    response = response.strip() #cleaning the string*\n",
    "\n",
    "    # if the opening <think> is missing, add one then\n",
    "    if not response.startswith(\"<think>\"):\n",
    "        response = \"<think>\\n\" + response\n",
    "\n",
    "    match = re.search(r\"<think>(.*?)</think>(.*)\", response, re.DOTALL) ##SEARCHES for the patterns in response\n",
    "\n",
    "    if match:\n",
    "        #thought = match.group(1).strip()\n",
    "        reply = match.group(2).strip()\n",
    "    else:\n",
    "        # If there's no closing </think>, assume everything is part of the thought\n",
    "        #thought = response.replace(\"<think>\", \"\").strip()\n",
    "        reply = \"\"\n",
    "\n",
    "    # Format the response\n",
    "    formatted_response = f\"{reply}\"\n",
    "    return formatted_response\n",
    "\n",
    "\n",
    "assistant_message = response_json[\"choices\"][0][\"message\"][\"content\"]\n",
    "print(thinkremover_chatbot_response(assistant_message))"
   ]
  }
 ],
 "metadata": {
  "kernelspec": {
   "display_name": "Python 3",
   "language": "python",
   "name": "python3"
  },
  "language_info": {
   "codemirror_mode": {
    "name": "ipython",
    "version": 3
   },
   "file_extension": ".py",
   "mimetype": "text/x-python",
   "name": "python",
   "nbconvert_exporter": "python",
   "pygments_lexer": "ipython3",
   "version": "3.13.2"
  }
 },
 "nbformat": 4,
 "nbformat_minor": 2
}
