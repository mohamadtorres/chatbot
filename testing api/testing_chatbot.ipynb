{
 "cells": [
  {
   "cell_type": "code",
   "execution_count": 7,
   "metadata": {},
   "outputs": [
    {
     "name": "stdout",
     "output_type": "stream",
     "text": [
      "{'response': {'id': 'chatcmpl-8fbab0d3-fa10-4b06-a427-d9ea52ed333c', 'object': 'chat.completion', 'created': 1740136315, 'model': 'deepseek-ai/DeepSeek-R1-Distill-Llama-8B', 'choices': [{'index': 0, 'message': {'role': 'assistant', 'reasoning_content': None, 'content': 'Okay, so I\\'m trying to figure out how to respond to the user\\'s message. They just said \"Hi there!\" followed by a greeting in another language, \"嗨！如何？\". Hmm, I guess the user is trying to be friendly by greeting me in their native tongue. \\n\\nFirst, I should acknowledge their greeting in a positive way. Maybe I can thank them for welcoming me. Since they used Chinese, I should respond in the same language to keep the conversation flowing. But I need to make sure my response is natural and friendly.\\n\\nI\\'m a bit confused about how to structure the response. Should I just reply with a simple \"Hi!\" or add more? Maybe I can say something like, \"你好！怎么可以？有什么可以帮助你的吗？” That means \"Hello! How can I help you?\" in Chinese. It sounds polite and opens the door for them to ask for assistance.\\n\\nWait, maybe I should also add a bit of personalization. Like, I\\'ve heard \"嗨！如何？\" is a common greeting, so maybe I can use it back. But I don\\'t want to repeat the exact phrase; I need to come up with something natural. Also, I should make sure the tone is welcoming.\\n\\nAnother thought: perhaps I can mention that I\\'m here to help, to encourage them to continue the conversation. So combining all that, my response could be, \"嗨！有什么我可以帮助你的吗？” That means \"Hi! How can I assist you?\" in Chinese. It\\'s friendly, acknowledges their greeting, and asks how I can help, which is a good way to engage further.\\n\\nI should also consider any cultural nuances. In some cultures, people prefer more detailed responses, while others are okay with something shorter. But given that they greeted me, I think a slightly longer response is appropriate to show I\\'m attentive.\\n\\nSo putting it all together, my response could be:\\n嗨！有什么我可以帮助你的吗？\\n\\nThat should be a good way to reply positively and invite them to continue the conversation.\\n</think>\\n\\n嗨！有什么我可以帮助你的吗？', 'tool_calls': []}, 'logprobs': None, 'finish_reason': 'stop', 'stop_reason': None}], 'usage': {'prompt_tokens': 8, 'total_tokens': 442, 'completion_tokens': 434, 'prompt_tokens_details': None}, 'prompt_logprobs': None}}\n"
     ]
    }
   ],
   "source": [
    "import requests\n",
    "\n",
    "url = \"http://127.0.0.1:8000\"\n",
    "data = {\"message\": \"Hi there!\"}\n",
    "response = requests.post(url, json=data)\n",
    "\n",
    "print(response.json())  # Expected chatbot response\n"
   ]
  },
  {
   "cell_type": "code",
   "execution_count": 6,
   "metadata": {},
   "outputs": [
    {
     "name": "stdout",
     "output_type": "stream",
     "text": [
      "{'response': {'id': 'chatcmpl-f8b6ef74-e2d8-47bd-bffb-c5e85e5b3b5c', 'object': 'chat.completion', 'created': 1740136256, 'model': 'deepseek-ai/DeepSeek-R1-Distill-Llama-8B', 'choices': [{'index': 0, 'message': {'role': 'assistant', 'reasoning_content': None, 'content': 'Okay, someone just said \"Hello, chatbot!\" Let me respond in a friendly and helpful way.\\n\\nI should greet them back and let them know I\\'m here to help. Maybe ask how I can assist them today.\\n</think>\\n\\nHello! How can I assist you today?', 'tool_calls': []}, 'logprobs': None, 'finish_reason': 'stop', 'stop_reason': None}], 'usage': {'prompt_tokens': 10, 'total_tokens': 67, 'completion_tokens': 57, 'prompt_tokens_details': None}, 'prompt_logprobs': None}}\n"
     ]
    }
   ],
   "source": [
    "import requests\n",
    "\n",
    "url = \"http://127.0.0.1:8000\"\n",
    "data = {\"message\": \"Hello, chatbot!\"}\n",
    "response = requests.post(url, json=data)\n",
    "\n",
    "print(response.json())  # Expect chatbot response\n"
   ]
  }
 ],
 "metadata": {
  "kernelspec": {
   "display_name": "Python 3",
   "language": "python",
   "name": "python3"
  },
  "language_info": {
   "codemirror_mode": {
    "name": "ipython",
    "version": 3
   },
   "file_extension": ".py",
   "mimetype": "text/x-python",
   "name": "python",
   "nbconvert_exporter": "python",
   "pygments_lexer": "ipython3",
   "version": "3.13.2"
  }
 },
 "nbformat": 4,
 "nbformat_minor": 2
}
